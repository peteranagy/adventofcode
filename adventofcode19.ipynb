{
  "nbformat": 4,
  "nbformat_minor": 0,
  "metadata": {
    "colab": {
      "name": "adventofcode19.ipynb",
      "provenance": [],
      "collapsed_sections": [],
      "authorship_tag": "ABX9TyPzVZUSykvGfC1u6vg+4oUf",
      "include_colab_link": true
    },
    "kernelspec": {
      "name": "python3",
      "display_name": "Python 3"
    }
  },
  "cells": [
    {
      "cell_type": "markdown",
      "metadata": {
        "id": "view-in-github",
        "colab_type": "text"
      },
      "source": [
        "<a href=\"https://colab.research.google.com/github/peteranagy/adventofcode/blob/master/adventofcode19.ipynb\" target=\"_parent\"><img src=\"https://colab.research.google.com/assets/colab-badge.svg\" alt=\"Open In Colab\"/></a>"
      ]
    },
    {
      "cell_type": "code",
      "metadata": {
        "id": "M9MEc-9-cc6R",
        "colab_type": "code",
        "colab": {}
      },
      "source": [
        "import pandas as pd\n",
        "import base64\n",
        "import requests\n",
        "import math\n",
        "\n",
        "master = \"https://raw.githubusercontent.com/peteranagy/adventofcode/master/day1\"\n",
        "req = requests.get(master)\n",
        "req = req.text\n",
        "data=req.split(\"\\n\")\n",
        "data=[int(f) for f in data[:-1]]\n"
      ],
      "execution_count": 50,
      "outputs": []
    },
    {
      "cell_type": "markdown",
      "metadata": {
        "id": "KQN4BlKHlZ1A",
        "colab_type": "text"
      },
      "source": [
        "DAY1"
      ]
    },
    {
      "cell_type": "code",
      "metadata": {
        "id": "DQXoEvNfcl7v",
        "colab_type": "code",
        "colab": {
          "base_uri": "https://localhost:8080/",
          "height": 34
        },
        "outputId": "3d5fe955-b484-4877-c3e6-650ee99a8923"
      },
      "source": [
        "def day1(a):\n",
        "  return math.floor(a/3)-2\n",
        "\n",
        "day1_res=0\n",
        "for i in data:\n",
        "  day1_res=day1_res+day1(i)\n",
        "\n",
        "day1_res"
      ],
      "execution_count": 51,
      "outputs": [
        {
          "output_type": "execute_result",
          "data": {
            "text/plain": [
              "3392373"
            ]
          },
          "metadata": {
            "tags": []
          },
          "execution_count": 51
        }
      ]
    },
    {
      "cell_type": "code",
      "metadata": {
        "id": "ovlmc5HGgPV7",
        "colab_type": "code",
        "colab": {
          "base_uri": "https://localhost:8080/",
          "height": 34
        },
        "outputId": "ac5aa107-3a9a-41ac-b2b8-551b621a110c"
      },
      "source": [
        "day1_res2=0\n",
        "for i in data:\n",
        "  a=0\n",
        "  while day1(i)>0:\n",
        "    a=a+day1(i)\n",
        "    i=day1(i)\n",
        "  day1_res2=day1_res2+a\n",
        "\n",
        "day1_res2"
      ],
      "execution_count": 52,
      "outputs": [
        {
          "output_type": "execute_result",
          "data": {
            "text/plain": [
              "5085699"
            ]
          },
          "metadata": {
            "tags": []
          },
          "execution_count": 52
        }
      ]
    },
    {
      "cell_type": "markdown",
      "metadata": {
        "id": "zuWoRXQglfkV",
        "colab_type": "text"
      },
      "source": [
        "DAY2"
      ]
    },
    {
      "cell_type": "code",
      "metadata": {
        "id": "VYTZHtcflg6Z",
        "colab_type": "code",
        "colab": {}
      },
      "source": [
        "master = \"https://raw.githubusercontent.com/peteranagy/adventofcode/master/day2\"\n",
        "req = requests.get(master)\n",
        "req = req.text\n",
        "data=req.split(\",\")\n",
        "data=[int(f) for f in data]"
      ],
      "execution_count": 66,
      "outputs": []
    },
    {
      "cell_type": "code",
      "metadata": {
        "id": "WfdqkoBNmml4",
        "colab_type": "code",
        "colab": {}
      },
      "source": [
        ""
      ],
      "execution_count": null,
      "outputs": []
    }
  ]
}