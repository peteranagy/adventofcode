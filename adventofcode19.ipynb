{
  "nbformat": 4,
  "nbformat_minor": 0,
  "metadata": {
    "colab": {
      "name": "adventofcode19.ipynb",
      "provenance": [],
      "collapsed_sections": [],
      "authorship_tag": "ABX9TyOA4SuGYOOBimTAACwHEJeX",
      "include_colab_link": true
    },
    "kernelspec": {
      "name": "python3",
      "display_name": "Python 3"
    }
  },
  "cells": [
    {
      "cell_type": "markdown",
      "metadata": {
        "id": "view-in-github",
        "colab_type": "text"
      },
      "source": [
        "<a href=\"https://colab.research.google.com/github/peteranagy/adventofcode/blob/master/adventofcode19.ipynb\" target=\"_parent\"><img src=\"https://colab.research.google.com/assets/colab-badge.svg\" alt=\"Open In Colab\"/></a>"
      ]
    },
    {
      "cell_type": "code",
      "metadata": {
        "id": "M9MEc-9-cc6R",
        "colab_type": "code",
        "colab": {}
      },
      "source": [
        "import pandas as pd\n",
        "import base64\n",
        "import requests\n",
        "import math\n",
        "\n",
        "master = \"https://raw.githubusercontent.com/peteranagy/adventofcode/master/day1\"\n",
        "req = requests.get(master)\n",
        "req = req.text\n",
        "data=req.split(\"\\n\")\n",
        "data=[int(f) for f in data[:-1]]\n"
      ],
      "execution_count": 2,
      "outputs": []
    },
    {
      "cell_type": "markdown",
      "metadata": {
        "id": "KQN4BlKHlZ1A",
        "colab_type": "text"
      },
      "source": [
        "DAY1"
      ]
    },
    {
      "cell_type": "code",
      "metadata": {
        "id": "DQXoEvNfcl7v",
        "colab_type": "code",
        "colab": {
          "base_uri": "https://localhost:8080/",
          "height": 34
        },
        "outputId": "2046150f-9cb5-44e3-d15c-38b367df2fbd"
      },
      "source": [
        "def day1(a):\n",
        "  return math.floor(a/3)-2\n",
        "\n",
        "day1_res=0\n",
        "for i in data:\n",
        "  day1_res=day1_res+day1(i)\n",
        "\n",
        "day1_res"
      ],
      "execution_count": 3,
      "outputs": [
        {
          "output_type": "execute_result",
          "data": {
            "text/plain": [
              "3392373"
            ]
          },
          "metadata": {
            "tags": []
          },
          "execution_count": 3
        }
      ]
    },
    {
      "cell_type": "code",
      "metadata": {
        "id": "ovlmc5HGgPV7",
        "colab_type": "code",
        "colab": {
          "base_uri": "https://localhost:8080/",
          "height": 34
        },
        "outputId": "2ce7199f-7d0e-493b-cd16-139a92bb9838"
      },
      "source": [
        "day1_res2=0\n",
        "for i in data:\n",
        "  a=0\n",
        "  while day1(i)>0:\n",
        "    a=a+day1(i)\n",
        "    i=day1(i)\n",
        "  day1_res2=day1_res2+a\n",
        "\n",
        "day1_res2"
      ],
      "execution_count": 4,
      "outputs": [
        {
          "output_type": "execute_result",
          "data": {
            "text/plain": [
              "5085699"
            ]
          },
          "metadata": {
            "tags": []
          },
          "execution_count": 4
        }
      ]
    },
    {
      "cell_type": "markdown",
      "metadata": {
        "id": "zuWoRXQglfkV",
        "colab_type": "text"
      },
      "source": [
        "DAY2"
      ]
    },
    {
      "cell_type": "code",
      "metadata": {
        "id": "VYTZHtcflg6Z",
        "colab_type": "code",
        "colab": {}
      },
      "source": [
        "master = \"https://raw.githubusercontent.com/peteranagy/adventofcode/master/day2\"\n",
        "req = requests.get(master)\n",
        "req = req.text\n",
        "data=req.split(\",\")\n",
        "data=[int(f) for f in data]"
      ],
      "execution_count": 5,
      "outputs": []
    },
    {
      "cell_type": "code",
      "metadata": {
        "id": "WfdqkoBNmml4",
        "colab_type": "code",
        "colab": {
          "base_uri": "https://localhost:8080/",
          "height": 34
        },
        "outputId": "7b74be94-87f8-46a2-b0b7-9fb89735bdf5"
      },
      "source": [
        "data[1]=12\n",
        "data[2]=2\n",
        "def day2(data):\n",
        "  for i in range(len(data)):\n",
        "    if data[0+i*4]==1:\n",
        "      data[data[3+i*4]]=data[data[1+i*4]]+data[data[2+i*4]]\n",
        "    elif data[0+i*4]==2:\n",
        "      data[data[3+i*4]]=data[data[1+i*4]]*data[data[2+i*4]]\n",
        "    elif data[0+i*4]==99:\n",
        "      return data[0]\n",
        "\n",
        "day2(data)"
      ],
      "execution_count": 6,
      "outputs": [
        {
          "output_type": "execute_result",
          "data": {
            "text/plain": [
              "5482655"
            ]
          },
          "metadata": {
            "tags": []
          },
          "execution_count": 6
        }
      ]
    },
    {
      "cell_type": "code",
      "metadata": {
        "id": "j9JXS75ZDKqi",
        "colab_type": "code",
        "colab": {
          "base_uri": "https://localhost:8080/",
          "height": 34
        },
        "outputId": "13f19d4e-01aa-43c1-981f-5b8f17bf0699"
      },
      "source": [
        "data=req.split(\",\")\n",
        "data=[int(f) for f in data]\n",
        "def day2_trial(data,noun,verb):\n",
        "  data[1]=noun\n",
        "  data[2]=verb\n",
        "  return day2(data)\n",
        "\n",
        "for i in range(99):\n",
        "  for j in range(99):\n",
        "    data=req.split(\",\")\n",
        "    data=[int(f) for f in data]\n",
        "    if day2_trial(data,i,j)==19690720:\n",
        "      print(i*100+j)"
      ],
      "execution_count": null,
      "outputs": [
        {
          "output_type": "stream",
          "text": [
            "4967\n"
          ],
          "name": "stdout"
        }
      ]
    },
    {
      "cell_type": "markdown",
      "metadata": {
        "id": "_KqciEt21Nwv",
        "colab_type": "text"
      },
      "source": [
        "DAY 3"
      ]
    },
    {
      "cell_type": "code",
      "metadata": {
        "id": "H76AB3J31O83",
        "colab_type": "code",
        "colab": {}
      },
      "source": [
        "master = \"https://raw.githubusercontent.com/peteranagy/adventofcode/master/day3\"\n",
        "req = requests.get(master)\n",
        "req = req.text\n",
        "data=list(req.split(\"\\n\"))[:-1]\n",
        "first_w=data[0].strip(\"<\").split(\",\")\n",
        "second_w=data[1].strip(\"<\").split(\",\")"
      ],
      "execution_count": 89,
      "outputs": []
    },
    {
      "cell_type": "code",
      "metadata": {
        "id": "OxvA1crb1QdZ",
        "colab_type": "code",
        "colab": {}
      },
      "source": [
        "datafr=pd.DataFrame(index=range(max(len(first_w),len(second_w))))\n",
        "\n",
        "\n",
        "def coordinates(first,datafr,name):\n",
        "  datafr[\"R%s\" %name]=0\n",
        "  datafr[\"U%s\" %name]=0\n",
        "  a=1\n",
        "  for i in first:  \n",
        "    if i[0]==\"R\":\n",
        "      datafr.loc[a,\"R%s\" %name]=datafr.loc[a-1,\"R%s\" %name]+int(i[1:])\n",
        "      datafr.loc[a,\"U%s\" %name]=datafr.loc[a-1,\"U%s\" %name]\n",
        "    elif i[0]==\"L\":\n",
        "      datafr.loc[a,\"R%s\" %name]=datafr.loc[a-1,\"R%s\" %name]-int(i[1:])\n",
        "      datafr.loc[a,\"U%s\" %name]=datafr.loc[a-1,\"U%s\" %name]\n",
        "    elif i[0]==\"U\":\n",
        "      datafr.loc[a,\"U%s\" %name]=datafr.loc[a-1,\"U%s\" %name]+int(i[1:])\n",
        "      datafr.loc[a,\"R%s\" %name]=datafr.loc[a-1,\"R%s\" %name]\n",
        "    elif i[0]==\"D\":\n",
        "      datafr.loc[a,\"U%s\" %name]=datafr.loc[a-1,\"U%s\" %name]-int(i[1:])\n",
        "      datafr.loc[a,\"R%s\" %name]=datafr.loc[a-1,\"R%s\" %name]\n",
        "    a=a+1\n",
        "  return datafr\n",
        "\n",
        "datafr=coordinates(first_w, datafr,1)\n",
        "datafr=coordinates(second_w, datafr,2)"
      ],
      "execution_count": 120,
      "outputs": []
    },
    {
      "cell_type": "code",
      "metadata": {
        "id": "EW5uNB141QsI",
        "colab_type": "code",
        "colab": {
          "base_uri": "https://localhost:8080/",
          "height": 419
        },
        "outputId": "5393cca9-ebf0-48b9-d302-be30def5497c"
      },
      "source": [
        "datafr"
      ],
      "execution_count": 121,
      "outputs": [
        {
          "output_type": "execute_result",
          "data": {
            "text/html": [
              "<div>\n",
              "<style scoped>\n",
              "    .dataframe tbody tr th:only-of-type {\n",
              "        vertical-align: middle;\n",
              "    }\n",
              "\n",
              "    .dataframe tbody tr th {\n",
              "        vertical-align: top;\n",
              "    }\n",
              "\n",
              "    .dataframe thead th {\n",
              "        text-align: right;\n",
              "    }\n",
              "</style>\n",
              "<table border=\"1\" class=\"dataframe\">\n",
              "  <thead>\n",
              "    <tr style=\"text-align: right;\">\n",
              "      <th></th>\n",
              "      <th>R1</th>\n",
              "      <th>U1</th>\n",
              "      <th>R2</th>\n",
              "      <th>U2</th>\n",
              "    </tr>\n",
              "  </thead>\n",
              "  <tbody>\n",
              "    <tr>\n",
              "      <th>0</th>\n",
              "      <td>0.0</td>\n",
              "      <td>0.0</td>\n",
              "      <td>0</td>\n",
              "      <td>0</td>\n",
              "    </tr>\n",
              "    <tr>\n",
              "      <th>1</th>\n",
              "      <td>1000.0</td>\n",
              "      <td>0.0</td>\n",
              "      <td>-1004</td>\n",
              "      <td>0</td>\n",
              "    </tr>\n",
              "    <tr>\n",
              "      <th>2</th>\n",
              "      <td>1000.0</td>\n",
              "      <td>573.0</td>\n",
              "      <td>-1004</td>\n",
              "      <td>110</td>\n",
              "    </tr>\n",
              "    <tr>\n",
              "      <th>3</th>\n",
              "      <td>975.0</td>\n",
              "      <td>573.0</td>\n",
              "      <td>-266</td>\n",
              "      <td>110</td>\n",
              "    </tr>\n",
              "    <tr>\n",
              "      <th>4</th>\n",
              "      <td>975.0</td>\n",
              "      <td>1041.0</td>\n",
              "      <td>-266</td>\n",
              "      <td>-273</td>\n",
              "    </tr>\n",
              "    <tr>\n",
              "      <th>...</th>\n",
              "      <td>...</td>\n",
              "      <td>...</td>\n",
              "      <td>...</td>\n",
              "      <td>...</td>\n",
              "    </tr>\n",
              "    <tr>\n",
              "      <th>297</th>\n",
              "      <td>858.0</td>\n",
              "      <td>-7615.0</td>\n",
              "      <td>-4782</td>\n",
              "      <td>4971</td>\n",
              "    </tr>\n",
              "    <tr>\n",
              "      <th>298</th>\n",
              "      <td>858.0</td>\n",
              "      <td>-7667.0</td>\n",
              "      <td>-4782</td>\n",
              "      <td>5681</td>\n",
              "    </tr>\n",
              "    <tr>\n",
              "      <th>299</th>\n",
              "      <td>918.0</td>\n",
              "      <td>-7667.0</td>\n",
              "      <td>-4041</td>\n",
              "      <td>5681</td>\n",
              "    </tr>\n",
              "    <tr>\n",
              "      <th>300</th>\n",
              "      <td>918.0</td>\n",
              "      <td>-8241.0</td>\n",
              "      <td>-4041</td>\n",
              "      <td>6322</td>\n",
              "    </tr>\n",
              "    <tr>\n",
              "      <th>301</th>\n",
              "      <td>972.0</td>\n",
              "      <td>-8241.0</td>\n",
              "      <td>-4176</td>\n",
              "      <td>6322</td>\n",
              "    </tr>\n",
              "  </tbody>\n",
              "</table>\n",
              "<p>302 rows × 4 columns</p>\n",
              "</div>"
            ],
            "text/plain": [
              "         R1      U1    R2    U2\n",
              "0       0.0     0.0     0     0\n",
              "1    1000.0     0.0 -1004     0\n",
              "2    1000.0   573.0 -1004   110\n",
              "3     975.0   573.0  -266   110\n",
              "4     975.0  1041.0  -266  -273\n",
              "..      ...     ...   ...   ...\n",
              "297   858.0 -7615.0 -4782  4971\n",
              "298   858.0 -7667.0 -4782  5681\n",
              "299   918.0 -7667.0 -4041  5681\n",
              "300   918.0 -8241.0 -4041  6322\n",
              "301   972.0 -8241.0 -4176  6322\n",
              "\n",
              "[302 rows x 4 columns]"
            ]
          },
          "metadata": {
            "tags": []
          },
          "execution_count": 121
        }
      ]
    },
    {
      "cell_type": "code",
      "metadata": {
        "id": "kZpiRedj1Qyr",
        "colab_type": "code",
        "colab": {
          "base_uri": "https://localhost:8080/",
          "height": 265
        },
        "outputId": "63192954-75f8-408b-a20f-12708ae88f97"
      },
      "source": [
        "import matplotlib.pyplot as plt\n",
        "plt.plot(datafr[\"R1\"],datafr[\"U1\"])\n",
        "plt.plot(datafr[\"R2\"],datafr[\"U2\"])\n",
        "plt.legend([\"first\",\"second\"])\n",
        "plt.show()"
      ],
      "execution_count": 238,
      "outputs": [
        {
          "output_type": "display_data",
          "data": {
            "image/png": "[encoded data removed]",
            "text/plain": [
              "<Figure size 432x288 with 1 Axes>"
            ]
          },
          "metadata": {
            "tags": [],
            "needs_background": "light"
          }
        }
      ]
    },
    {
      "cell_type": "code",
      "metadata": {
        "id": "iV6CS5G21QwL",
        "colab_type": "code",
        "colab": {
          "base_uri": "https://localhost:8080/",
          "height": 269
        },
        "outputId": "8661758b-7e4e-4e67-90c5-3cc92bfbc079"
      },
      "source": [
        "plt.xlim(300,350)\n",
        "plt.ylim(-400,500)\n",
        "plt.plot(datafr[\"R1\"],datafr[\"U1\"])\n",
        "plt.plot(datafr[\"R2\"],datafr[\"U2\"])\n",
        "plt.legend([\"first\",\"second\"])\n",
        "plt.show()"
      ],
      "execution_count": 239,
      "outputs": [
        {
          "output_type": "display_data",
          "data": {
            "image/png": "[encoded data removed]",
            "text/plain": [
              "<Figure size 432x288 with 1 Axes>"
            ]
          },
          "metadata": {
            "tags": [],
            "needs_background": "light"
          }
        }
      ]
    },
    {
      "cell_type": "code",
      "metadata": {
        "id": "mLCtAA95TCNX",
        "colab_type": "code",
        "colab": {
          "base_uri": "https://localhost:8080/",
          "height": 34
        },
        "outputId": "f97a6555-0cc3-4429-a977-5559a76d6a6c"
      },
      "source": [
        "5127+36863"
      ],
      "execution_count": 240,
      "outputs": [
        {
          "output_type": "execute_result",
          "data": {
            "text/plain": [
              "41990"
            ]
          },
          "metadata": {
            "tags": []
          },
          "execution_count": 240
        }
      ]
    },
    {
      "cell_type": "code",
      "metadata": {
        "id": "peEc_1-vYQoq",
        "colab_type": "code",
        "colab": {}
      },
      "source": [
        ""
      ],
      "execution_count": 240,
      "outputs": []
    }
  ]
}