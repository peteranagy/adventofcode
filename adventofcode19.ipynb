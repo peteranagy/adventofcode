{
  "nbformat": 4,
  "nbformat_minor": 0,
  "metadata": {
    "colab": {
      "name": "adventofcode19.ipynb",
      "provenance": [],
      "collapsed_sections": [],
      "authorship_tag": "ABX9TyNjumlSFa692yRd5MPdS3wI",
      "include_colab_link": true
    },
    "kernelspec": {
      "name": "python3",
      "display_name": "Python 3"
    }
  },
  "cells": [
    {
      "cell_type": "markdown",
      "metadata": {
        "id": "view-in-github",
        "colab_type": "text"
      },
      "source": [
        "<a href=\"https://colab.research.google.com/github/peteranagy/adventofcode/blob/master/adventofcode19.ipynb\" target=\"_parent\"><img src=\"https://colab.research.google.com/assets/colab-badge.svg\" alt=\"Open In Colab\"/></a>"
      ]
    },
    {
      "cell_type": "code",
      "metadata": {
        "id": "M9MEc-9-cc6R",
        "colab_type": "code",
        "colab": {}
      },
      "source": [
        "import pandas as pd\n",
        "import base64\n",
        "import requests\n",
        "import math\n",
        "\n",
        "master = \"https://raw.githubusercontent.com/peteranagy/adventofcode/master/day1\"\n",
        "req = requests.get(master)\n",
        "req = req.text\n",
        "data=req.split(\"\\n\")\n",
        "data=[int(f) for f in data[:-1]]\n"
      ],
      "execution_count": 2,
      "outputs": []
    },
    {
      "cell_type": "markdown",
      "metadata": {
        "id": "KQN4BlKHlZ1A",
        "colab_type": "text"
      },
      "source": [
        "DAY1"
      ]
    },
    {
      "cell_type": "code",
      "metadata": {
        "id": "DQXoEvNfcl7v",
        "colab_type": "code",
        "colab": {
          "base_uri": "https://localhost:8080/",
          "height": 34
        },
        "outputId": "2046150f-9cb5-44e3-d15c-38b367df2fbd"
      },
      "source": [
        "def day1(a):\n",
        "  return math.floor(a/3)-2\n",
        "\n",
        "day1_res=0\n",
        "for i in data:\n",
        "  day1_res=day1_res+day1(i)\n",
        "\n",
        "day1_res"
      ],
      "execution_count": 3,
      "outputs": [
        {
          "output_type": "execute_result",
          "data": {
            "text/plain": [
              "3392373"
            ]
          },
          "metadata": {
            "tags": []
          },
          "execution_count": 3
        }
      ]
    },
    {
      "cell_type": "code",
      "metadata": {
        "id": "ovlmc5HGgPV7",
        "colab_type": "code",
        "colab": {
          "base_uri": "https://localhost:8080/",
          "height": 34
        },
        "outputId": "2ce7199f-7d0e-493b-cd16-139a92bb9838"
      },
      "source": [
        "day1_res2=0\n",
        "for i in data:\n",
        "  a=0\n",
        "  while day1(i)>0:\n",
        "    a=a+day1(i)\n",
        "    i=day1(i)\n",
        "  day1_res2=day1_res2+a\n",
        "\n",
        "day1_res2"
      ],
      "execution_count": 4,
      "outputs": [
        {
          "output_type": "execute_result",
          "data": {
            "text/plain": [
              "5085699"
            ]
          },
          "metadata": {
            "tags": []
          },
          "execution_count": 4
        }
      ]
    },
    {
      "cell_type": "markdown",
      "metadata": {
        "id": "zuWoRXQglfkV",
        "colab_type": "text"
      },
      "source": [
        "DAY2"
      ]
    },
    {
      "cell_type": "code",
      "metadata": {
        "id": "VYTZHtcflg6Z",
        "colab_type": "code",
        "colab": {}
      },
      "source": [
        "master = \"https://raw.githubusercontent.com/peteranagy/adventofcode/master/day2\"\n",
        "req = requests.get(master)\n",
        "req = req.text\n",
        "data=req.split(\",\")\n",
        "data=[int(f) for f in data]"
      ],
      "execution_count": 5,
      "outputs": []
    },
    {
      "cell_type": "code",
      "metadata": {
        "id": "WfdqkoBNmml4",
        "colab_type": "code",
        "colab": {
          "base_uri": "https://localhost:8080/",
          "height": 34
        },
        "outputId": "7b74be94-87f8-46a2-b0b7-9fb89735bdf5"
      },
      "source": [
        "data[1]=12\n",
        "data[2]=2\n",
        "def day2(data):\n",
        "  for i in range(len(data)):\n",
        "    if data[0+i*4]==1:\n",
        "      data[data[3+i*4]]=data[data[1+i*4]]+data[data[2+i*4]]\n",
        "    elif data[0+i*4]==2:\n",
        "      data[data[3+i*4]]=data[data[1+i*4]]*data[data[2+i*4]]\n",
        "    elif data[0+i*4]==99:\n",
        "      return data[0]\n",
        "\n",
        "day2(data)"
      ],
      "execution_count": 6,
      "outputs": [
        {
          "output_type": "execute_result",
          "data": {
            "text/plain": [
              "5482655"
            ]
          },
          "metadata": {
            "tags": []
          },
          "execution_count": 6
        }
      ]
    },
    {
      "cell_type": "code",
      "metadata": {
        "id": "j9JXS75ZDKqi",
        "colab_type": "code",
        "colab": {
          "base_uri": "https://localhost:8080/",
          "height": 34
        },
        "outputId": "13f19d4e-01aa-43c1-981f-5b8f17bf0699"
      },
      "source": [
        "data=req.split(\",\")\n",
        "data=[int(f) for f in data]\n",
        "def day2_trial(data,noun,verb):\n",
        "  data[1]=noun\n",
        "  data[2]=verb\n",
        "  return day2(data)\n",
        "\n",
        "for i in range(99):\n",
        "  for j in range(99):\n",
        "    data=req.split(\",\")\n",
        "    data=[int(f) for f in data]\n",
        "    if day2_trial(data,i,j)==19690720:\n",
        "      print(i*100+j)"
      ],
      "execution_count": null,
      "outputs": [
        {
          "output_type": "stream",
          "text": [
            "4967\n"
          ],
          "name": "stdout"
        }
      ]
    },
    {
      "cell_type": "markdown",
      "metadata": {
        "id": "_KqciEt21Nwv",
        "colab_type": "text"
      },
      "source": [
        "DAY 3"
      ]
    },
    {
      "cell_type": "code",
      "metadata": {
        "id": "H76AB3J31O83",
        "colab_type": "code",
        "colab": {}
      },
      "source": [
        ""
      ],
      "execution_count": null,
      "outputs": []
    },
    {
      "cell_type": "code",
      "metadata": {
        "id": "OxvA1crb1QdZ",
        "colab_type": "code",
        "colab": {}
      },
      "source": [
        ""
      ],
      "execution_count": null,
      "outputs": []
    },
    {
      "cell_type": "code",
      "metadata": {
        "id": "EW5uNB141QsI",
        "colab_type": "code",
        "colab": {}
      },
      "source": [
        ""
      ],
      "execution_count": null,
      "outputs": []
    },
    {
      "cell_type": "code",
      "metadata": {
        "id": "kZpiRedj1Qyr",
        "colab_type": "code",
        "colab": {}
      },
      "source": [
        ""
      ],
      "execution_count": null,
      "outputs": []
    },
    {
      "cell_type": "code",
      "metadata": {
        "id": "iV6CS5G21QwL",
        "colab_type": "code",
        "colab": {}
      },
      "source": [
        ""
      ],
      "execution_count": null,
      "outputs": []
    }
  ]
}